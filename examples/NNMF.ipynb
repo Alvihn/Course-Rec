{
 "cells": [
  {
   "cell_type": "code",
   "execution_count": 1,
   "metadata": {},
   "outputs": [],
   "source": [
    "import sys\n",
    "import os\n",
    "\n",
    "path_to_rec = os.path.join('.', '..', 'caserec_temp')\n",
    "\n",
    "if (path_to_rec not in sys.path):\n",
    "    sys.path.append(path_to_rec)"
   ]
  },
  {
   "cell_type": "code",
   "execution_count": 2,
   "metadata": {},
   "outputs": [
    {
     "data": {
      "text/plain": [
       "['base_knn.py',\n",
       " 'base_nsvd1.py',\n",
       " 'base_rating_prediction.py',\n",
       " 'corec.py',\n",
       " 'gsvdplusplus.py',\n",
       " 'itemknn.py',\n",
       " 'item_attribute_knn.py',\n",
       " 'item_msmf.py',\n",
       " 'item_nsvd1.py',\n",
       " 'matrixfactorization.py',\n",
       " 'most_popular.py',\n",
       " 'nnmf.py',\n",
       " 'random_rec.py',\n",
       " 'svd.py',\n",
       " 'svdplusplus.py',\n",
       " 'userknn.py',\n",
       " 'user_attribute_knn.py',\n",
       " 'user_nsvd1.py',\n",
       " '__init__.py']"
      ]
     },
     "execution_count": 2,
     "metadata": {},
     "output_type": "execute_result"
    }
   ],
   "source": [
    "os.listdir(os.path.join(path_to_rec, 'recommenders', 'rating_prediction'))"
   ]
  },
  {
   "cell_type": "code",
   "execution_count": 3,
   "metadata": {},
   "outputs": [
    {
     "ename": "ModuleNotFoundError",
     "evalue": "No module named 'caserec_temp'",
     "output_type": "error",
     "traceback": [
      "\u001b[1;31m---------------------------------------------------------------------------\u001b[0m",
      "\u001b[1;31mModuleNotFoundError\u001b[0m                       Traceback (most recent call last)",
      "\u001b[1;32m<ipython-input-3-0edc3624792d>\u001b[0m in \u001b[0;36m<module>\u001b[1;34m()\u001b[0m\n\u001b[1;32m----> 1\u001b[1;33m \u001b[1;32mfrom\u001b[0m \u001b[0mcaserec_temp\u001b[0m\u001b[1;33m.\u001b[0m\u001b[0mrecommenders\u001b[0m\u001b[1;33m.\u001b[0m\u001b[0mrating_prediction\u001b[0m\u001b[1;33m.\u001b[0m\u001b[0mnnmf\u001b[0m \u001b[1;32mimport\u001b[0m \u001b[0mNNMF\u001b[0m\u001b[1;33m\u001b[0m\u001b[0m\n\u001b[0m",
      "\u001b[1;31mModuleNotFoundError\u001b[0m: No module named 'caserec_temp'"
     ]
    }
   ],
   "source": [
    "from caserec_temp.recommenders.rating_prediction.nnmf import NNMF"
   ]
  },
  {
   "cell_type": "code",
   "execution_count": null,
   "metadata": {},
   "outputs": [],
   "source": [
    "from sklearn.decomposition import NMF\n",
    "model = NMF(n_components=2, init='random', random_state=0)\n"
   ]
  },
  {
   "cell_type": "code",
   "execution_count": null,
   "metadata": {},
   "outputs": [],
   "source": []
  },
  {
   "cell_type": "code",
   "execution_count": null,
   "metadata": {},
   "outputs": [],
   "source": [
    "W = model.fit_transform(X)\n",
    "W"
   ]
  },
  {
   "cell_type": "code",
   "execution_count": null,
   "metadata": {},
   "outputs": [],
   "source": [
    "H = model.components_\n",
    "H"
   ]
  },
  {
   "cell_type": "code",
   "execution_count": null,
   "metadata": {},
   "outputs": [],
   "source": [
    "np.dot(W, H)"
   ]
  }
 ],
 "metadata": {
  "kernelspec": {
   "display_name": "Python 3",
   "language": "python",
   "name": "python3"
  },
  "language_info": {
   "codemirror_mode": {
    "name": "ipython",
    "version": 3
   },
   "file_extension": ".py",
   "mimetype": "text/x-python",
   "name": "python",
   "nbconvert_exporter": "python",
   "pygments_lexer": "ipython3",
   "version": "3.6.4"
  }
 },
 "nbformat": 4,
 "nbformat_minor": 2
}
